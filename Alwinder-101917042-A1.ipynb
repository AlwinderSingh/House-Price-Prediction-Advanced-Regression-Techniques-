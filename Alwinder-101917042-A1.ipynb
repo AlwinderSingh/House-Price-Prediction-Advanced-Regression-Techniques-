{
 "cells": [
  {
   "cell_type": "code",
   "execution_count": 1,
   "id": "1a181fc4",
   "metadata": {
    "_cell_guid": "b1076dfc-b9ad-4769-8c92-a6c4dae69d19",
    "_uuid": "8f2839f25d086af736a60e9eeb907d3b93b6e0e5",
    "execution": {
     "iopub.execute_input": "2022-02-28T17:51:34.170271Z",
     "iopub.status.busy": "2022-02-28T17:51:34.168753Z",
     "iopub.status.idle": "2022-02-28T17:51:37.775883Z",
     "shell.execute_reply": "2022-02-28T17:51:37.775247Z",
     "shell.execute_reply.started": "2022-02-28T17:46:34.184135Z"
    },
    "papermill": {
     "duration": 3.639112,
     "end_time": "2022-02-28T17:51:37.776048",
     "exception": false,
     "start_time": "2022-02-28T17:51:34.136936",
     "status": "completed"
    },
    "tags": []
   },
   "outputs": [
    {
     "name": "stdout",
     "output_type": "stream",
     "text": [
      "/kaggle/input/house-prices-data/train.csv\n",
      "/kaggle/input/house-prices-data/test.csv\n"
     ]
    }
   ],
   "source": [
    "# This Python 3 environment comes with many helpful analytics libraries installed\n",
    "# It is defined by the kaggle/python Docker image: https://github.com/kaggle/docker-python\n",
    "# For example, here's several helpful packages to load\n",
    "\n",
    "import cupy as np # linear algebra\n",
    "import cudf as pd # data processing, CSV file I/O (e.g. pd.read_csv)\n",
    "\n",
    "# Input data files are available in the read-only \"../input/\" directory\n",
    "# For example, running this (by clicking run or pressing Shift+Enter) will list all files under the input directory\n",
    "\n",
    "import os\n",
    "for dirname, _, filenames in os.walk('/kaggle/input'):\n",
    "    for filename in filenames:\n",
    "        print(os.path.join(dirname, filename))\n",
    "\n",
    "# You can write up to 20GB to the current directory (/kaggle/working/) that gets preserved as output when you create a version using \"Save & Run All\" \n",
    "# You can also write temporary files to /kaggle/temp/, but they won't be saved outside of the current session"
   ]
  },
  {
   "cell_type": "markdown",
   "id": "425d942a",
   "metadata": {
    "papermill": {
     "duration": 0.02974,
     "end_time": "2022-02-28T17:51:37.836791",
     "exception": false,
     "start_time": "2022-02-28T17:51:37.807051",
     "status": "completed"
    },
    "tags": []
   },
   "source": [
    "# Step 1 : Importing the datasets"
   ]
  },
  {
   "cell_type": "code",
   "execution_count": 2,
   "id": "d6c80f0b",
   "metadata": {
    "execution": {
     "iopub.execute_input": "2022-02-28T17:51:37.904653Z",
     "iopub.status.busy": "2022-02-28T17:51:37.903941Z",
     "iopub.status.idle": "2022-02-28T17:51:40.160758Z",
     "shell.execute_reply": "2022-02-28T17:51:40.159999Z",
     "shell.execute_reply.started": "2022-02-28T17:46:35.283975Z"
    },
    "papermill": {
     "duration": 2.294461,
     "end_time": "2022-02-28T17:51:40.160935",
     "exception": false,
     "start_time": "2022-02-28T17:51:37.866474",
     "status": "completed"
    },
    "tags": []
   },
   "outputs": [],
   "source": [
    "traindat=pd.read_csv(\"/kaggle/input/house-prices-data/train.csv\")\n",
    "y=traindat.iloc[:,-1]\n",
    "traindat=traindat.iloc[:,:-1]\n",
    "testdat=pd.read_csv(\"/kaggle/input/house-prices-data/test.csv\")\n",
    "y=y.astype(\"float64\")\n"
   ]
  },
  {
   "cell_type": "markdown",
   "id": "6f3a5f43",
   "metadata": {
    "papermill": {
     "duration": 0.028032,
     "end_time": "2022-02-28T17:51:40.220818",
     "exception": false,
     "start_time": "2022-02-28T17:51:40.192786",
     "status": "completed"
    },
    "tags": []
   },
   "source": [
    "# Step 2: Handling NA Values\n",
    "- Here first we are checking the counts of NA values in each column"
   ]
  },
  {
   "cell_type": "code",
   "execution_count": 3,
   "id": "7a94a9a1",
   "metadata": {
    "execution": {
     "iopub.execute_input": "2022-02-28T17:51:40.286662Z",
     "iopub.status.busy": "2022-02-28T17:51:40.285975Z",
     "iopub.status.idle": "2022-02-28T17:51:40.879293Z",
     "shell.execute_reply": "2022-02-28T17:51:40.878817Z",
     "shell.execute_reply.started": "2022-02-28T17:46:35.870724Z"
    },
    "papermill": {
     "duration": 0.628589,
     "end_time": "2022-02-28T17:51:40.879424",
     "exception": false,
     "start_time": "2022-02-28T17:51:40.250835",
     "status": "completed"
    },
    "tags": []
   },
   "outputs": [],
   "source": [
    "counts=[]\n",
    "indices=[]\n",
    "cols=list(traindat.columns)\n",
    "for i in traindat.columns:\n",
    "    counts.append(int(np.sum((traindat[i].isna().values))))\n",
    "for i in range(len(counts)):\n",
    "    if counts[i]==0:\n",
    "        indices.append(i)\n",
    "\n"
   ]
  },
  {
   "cell_type": "markdown",
   "id": "f3d8f218",
   "metadata": {
    "papermill": {
     "duration": 0.026267,
     "end_time": "2022-02-28T17:51:40.932564",
     "exception": false,
     "start_time": "2022-02-28T17:51:40.906297",
     "status": "completed"
    },
    "tags": []
   },
   "source": [
    "- Plotting the counts of NA values"
   ]
  },
  {
   "cell_type": "code",
   "execution_count": 4,
   "id": "64f19353",
   "metadata": {
    "execution": {
     "iopub.execute_input": "2022-02-28T17:51:40.992164Z",
     "iopub.status.busy": "2022-02-28T17:51:40.991340Z",
     "iopub.status.idle": "2022-02-28T17:51:41.349019Z",
     "shell.execute_reply": "2022-02-28T17:51:41.349411Z",
     "shell.execute_reply.started": "2022-02-28T17:46:36.272285Z"
    },
    "papermill": {
     "duration": 0.390362,
     "end_time": "2022-02-28T17:51:41.349564",
     "exception": false,
     "start_time": "2022-02-28T17:51:40.959202",
     "status": "completed"
    },
    "tags": []
   },
   "outputs": [
    {
     "data": {
      "text/plain": [
       "<BarContainer object of 80 artists>"
      ]
     },
     "execution_count": 4,
     "metadata": {},
     "output_type": "execute_result"
    },
    {
     "data": {
      "image/png": "[encoded data removed]",
      "text/plain": [
       "<Figure size 432x288 with 1 Axes>"
      ]
     },
     "metadata": {
      "needs_background": "light"
     },
     "output_type": "display_data"
    }
   ],
   "source": [
    "from matplotlib import pyplot as plt\n",
    "plt.bar(x=range(len(cols)),height=counts)\n"
   ]
  },
  {
   "cell_type": "markdown",
   "id": "9af197e6",
   "metadata": {
    "papermill": {
     "duration": 0.027137,
     "end_time": "2022-02-28T17:51:41.404299",
     "exception": false,
     "start_time": "2022-02-28T17:51:41.377162",
     "status": "completed"
    },
    "tags": []
   },
   "source": [
    "- Filling NA values with mean"
   ]
  },
  {
   "cell_type": "code",
   "execution_count": 5,
   "id": "47b9993d",
   "metadata": {
    "execution": {
     "iopub.execute_input": "2022-02-28T17:51:41.468445Z",
     "iopub.status.busy": "2022-02-28T17:51:41.467871Z",
     "iopub.status.idle": "2022-02-28T17:51:41.865645Z",
     "shell.execute_reply": "2022-02-28T17:51:41.865133Z",
     "shell.execute_reply.started": "2022-02-28T17:46:36.662153Z"
    },
    "papermill": {
     "duration": 0.433882,
     "end_time": "2022-02-28T17:51:41.865776",
     "exception": false,
     "start_time": "2022-02-28T17:51:41.431894",
     "status": "completed"
    },
    "tags": []
   },
   "outputs": [],
   "source": [
    "#Handling columns with missing values\n",
    "for i in traindat.columns[traindat.dtypes==\"float64\"]:\n",
    "    traindat[i]=traindat[i].fillna(traindat[i].mean())\n",
    "for i in testdat.columns[testdat.dtypes==\"float64\"]:\n",
    "    testdat=testdat.fillna(testdat[i].mean())\n",
    "#diff=list(set(traindat).symmetric_difference(set(testdat)))\n",
    "#for i in diff:\n",
    "#    if i in traindat.columns:\n",
    "#        del traindat[i]\n",
    "#    elif i in testdat.columns:\n",
    "#        del testdat[i]"
   ]
  },
  {
   "cell_type": "markdown",
   "id": "317146d2",
   "metadata": {
    "papermill": {
     "duration": 0.027694,
     "end_time": "2022-02-28T17:51:41.921103",
     "exception": false,
     "start_time": "2022-02-28T17:51:41.893409",
     "status": "completed"
    },
    "tags": []
   },
   "source": [
    "- Dropping columns with categorical NA values"
   ]
  },
  {
   "cell_type": "code",
   "execution_count": 6,
   "id": "23fa40f0",
   "metadata": {
    "execution": {
     "iopub.execute_input": "2022-02-28T17:51:41.982364Z",
     "iopub.status.busy": "2022-02-28T17:51:41.981519Z",
     "iopub.status.idle": "2022-02-28T17:51:42.036962Z",
     "shell.execute_reply": "2022-02-28T17:51:42.036509Z",
     "shell.execute_reply.started": "2022-02-28T17:46:37.045236Z"
    },
    "papermill": {
     "duration": 0.088437,
     "end_time": "2022-02-28T17:51:42.037087",
     "exception": false,
     "start_time": "2022-02-28T17:51:41.948650",
     "status": "completed"
    },
    "tags": []
   },
   "outputs": [],
   "source": [
    "#Handling columns with missing values\n",
    "traindat=traindat.dropna(axis=1)\n",
    "testdat=testdat.dropna(axis=1)\n",
    "diff=list(set(traindat).symmetric_difference(set(testdat)))\n",
    "for i in diff:\n",
    "    if i in traindat.columns:\n",
    "        del traindat[i]\n",
    "    elif i in testdat.columns:\n",
    "        del testdat[i]"
   ]
  },
  {
   "cell_type": "markdown",
   "id": "904c331d",
   "metadata": {
    "papermill": {
     "duration": 0.027604,
     "end_time": "2022-02-28T17:51:42.092600",
     "exception": false,
     "start_time": "2022-02-28T17:51:42.064996",
     "status": "completed"
    },
    "tags": []
   },
   "source": [
    "# Step 3 : Label Encoding"
   ]
  },
  {
   "cell_type": "code",
   "execution_count": 7,
   "id": "751af63f",
   "metadata": {
    "execution": {
     "iopub.execute_input": "2022-02-28T17:51:42.155991Z",
     "iopub.status.busy": "2022-02-28T17:51:42.155301Z",
     "iopub.status.idle": "2022-02-28T17:51:44.574942Z",
     "shell.execute_reply": "2022-02-28T17:51:44.574455Z",
     "shell.execute_reply.started": "2022-02-28T17:46:37.406121Z"
    },
    "papermill": {
     "duration": 2.45447,
     "end_time": "2022-02-28T17:51:44.575071",
     "exception": false,
     "start_time": "2022-02-28T17:51:42.120601",
     "status": "completed"
    },
    "tags": []
   },
   "outputs": [],
   "source": [
    "onehot=list(traindat.dtypes[traindat.dtypes==object].index)\n",
    "from cuml.preprocessing import LabelEncoder\n",
    "x=LabelEncoder()\n",
    "for i in onehot:\n",
    "    traindat[i]=x.fit_transform(traindat[i])\n",
    "onehot=list(testdat.dtypes[testdat.dtypes==object].index)\n",
    "for i in onehot:\n",
    "    testdat[i]=x.fit_transform(testdat[i])\n"
   ]
  },
  {
   "cell_type": "code",
   "execution_count": 8,
   "id": "c34ba0e4",
   "metadata": {
    "execution": {
     "iopub.execute_input": "2022-02-28T17:51:44.641517Z",
     "iopub.status.busy": "2022-02-28T17:51:44.640594Z",
     "iopub.status.idle": "2022-02-28T17:51:44.654425Z",
     "shell.execute_reply": "2022-02-28T17:51:44.653960Z",
     "shell.execute_reply.started": "2022-02-28T17:46:37.835849Z"
    },
    "papermill": {
     "duration": 0.049948,
     "end_time": "2022-02-28T17:51:44.654549",
     "exception": false,
     "start_time": "2022-02-28T17:51:44.604601",
     "status": "completed"
    },
    "tags": []
   },
   "outputs": [],
   "source": [
    "conv=traindat.columns[traindat.dtypes==\"int64\"]\n",
    "traindat[conv]=traindat[conv].astype(\"float64\")"
   ]
  },
  {
   "cell_type": "markdown",
   "id": "c75c4850",
   "metadata": {
    "papermill": {
     "duration": 0.028768,
     "end_time": "2022-02-28T17:51:44.712350",
     "exception": false,
     "start_time": "2022-02-28T17:51:44.683582",
     "status": "completed"
    },
    "tags": []
   },
   "source": [
    "# Step 4: Plotting the Heatmap "
   ]
  },
  {
   "cell_type": "code",
   "execution_count": 9,
   "id": "128ede6b",
   "metadata": {
    "execution": {
     "iopub.execute_input": "2022-02-28T17:51:44.774402Z",
     "iopub.status.busy": "2022-02-28T17:51:44.773631Z",
     "iopub.status.idle": "2022-02-28T17:51:48.106341Z",
     "shell.execute_reply": "2022-02-28T17:51:48.107659Z",
     "shell.execute_reply.started": "2022-02-28T17:46:38.113895Z"
    },
    "papermill": {
     "duration": 3.367138,
     "end_time": "2022-02-28T17:51:48.107941",
     "exception": false,
     "start_time": "2022-02-28T17:51:44.740803",
     "status": "completed"
    },
    "tags": []
   },
   "outputs": [
    {
     "data": {
      "text/plain": [
       "<AxesSubplot:>"
      ]
     },
     "execution_count": 9,
     "metadata": {},
     "output_type": "execute_result"
    },
    {
     "data": {
      "image/png": "[encoded data removed]",
      "text/plain": [
       "<Figure size 432x288 with 2 Axes>"
      ]
     },
     "metadata": {
      "needs_background": "light"
     },
     "output_type": "display_data"
    }
   ],
   "source": [
    "import seaborn as sns\n",
    "sns.heatmap(traindat.corr().to_pandas())"
   ]
  },
  {
   "cell_type": "markdown",
   "id": "3e549ecf",
   "metadata": {
    "papermill": {
     "duration": 0.052665,
     "end_time": "2022-02-28T17:51:48.214623",
     "exception": false,
     "start_time": "2022-02-28T17:51:48.161958",
     "status": "completed"
    },
    "tags": []
   },
   "source": [
    "# Step 5 : Normalization of data with StandardScaler"
   ]
  },
  {
   "cell_type": "code",
   "execution_count": 10,
   "id": "30fe4423",
   "metadata": {
    "execution": {
     "iopub.execute_input": "2022-02-28T17:51:48.329954Z",
     "iopub.status.busy": "2022-02-28T17:51:48.329132Z",
     "iopub.status.idle": "2022-02-28T17:51:56.286994Z",
     "shell.execute_reply": "2022-02-28T17:51:56.286532Z",
     "shell.execute_reply.started": "2022-02-28T17:46:39.578693Z"
    },
    "papermill": {
     "duration": 8.021287,
     "end_time": "2022-02-28T17:51:56.287118",
     "exception": false,
     "start_time": "2022-02-28T17:51:48.265831",
     "status": "completed"
    },
    "tags": []
   },
   "outputs": [],
   "source": [
    "from cuml.preprocessing import StandardScaler\n",
    "std=StandardScaler()\n",
    "traindat_scaled=std.fit_transform(traindat)\n",
    "testdat_scaled=std.fit_transform(testdat)\n"
   ]
  },
  {
   "cell_type": "code",
   "execution_count": 11,
   "id": "7459af3b",
   "metadata": {
    "execution": {
     "iopub.execute_input": "2022-02-28T17:51:56.352539Z",
     "iopub.status.busy": "2022-02-28T17:51:56.351668Z",
     "iopub.status.idle": "2022-02-28T17:51:56.353464Z",
     "shell.execute_reply": "2022-02-28T17:51:56.353899Z",
     "shell.execute_reply.started": "2022-02-28T17:46:39.823522Z"
    },
    "papermill": {
     "duration": 0.037126,
     "end_time": "2022-02-28T17:51:56.354030",
     "exception": false,
     "start_time": "2022-02-28T17:51:56.316904",
     "status": "completed"
    },
    "tags": []
   },
   "outputs": [],
   "source": [
    "traindat_scaled.columns=traindat.columns\n",
    "testdat_scaled.columns=testdat.columns\n"
   ]
  },
  {
   "cell_type": "markdown",
   "id": "9644bb72",
   "metadata": {
    "papermill": {
     "duration": 0.029401,
     "end_time": "2022-02-28T17:51:56.413300",
     "exception": false,
     "start_time": "2022-02-28T17:51:56.383899",
     "status": "completed"
    },
    "tags": []
   },
   "source": [
    "# Step 6: Train-Test-Split (Training data=70%)"
   ]
  },
  {
   "cell_type": "code",
   "execution_count": 12,
   "id": "ad2c8117",
   "metadata": {
    "execution": {
     "iopub.execute_input": "2022-02-28T17:51:56.480137Z",
     "iopub.status.busy": "2022-02-28T17:51:56.479201Z",
     "iopub.status.idle": "2022-02-28T17:51:57.325881Z",
     "shell.execute_reply": "2022-02-28T17:51:57.324946Z",
     "shell.execute_reply.started": "2022-02-28T17:46:40.389610Z"
    },
    "papermill": {
     "duration": 0.882959,
     "end_time": "2022-02-28T17:51:57.326020",
     "exception": false,
     "start_time": "2022-02-28T17:51:56.443061",
     "status": "completed"
    },
    "tags": []
   },
   "outputs": [],
   "source": [
    "from cuml.model_selection import train_test_split\n",
    "X_1, X_2, y_1, y_2 = train_test_split(traindat_scaled, y, test_size=0.3, random_state=42)\n"
   ]
  },
  {
   "cell_type": "markdown",
   "id": "ace839cf",
   "metadata": {
    "papermill": {
     "duration": 0.029912,
     "end_time": "2022-02-28T17:51:57.386109",
     "exception": false,
     "start_time": "2022-02-28T17:51:57.356197",
     "status": "completed"
    },
    "tags": []
   },
   "source": [
    "- Creating a dataframe to save the results"
   ]
  },
  {
   "cell_type": "code",
   "execution_count": 13,
   "id": "5b7c0b34",
   "metadata": {
    "execution": {
     "iopub.execute_input": "2022-02-28T17:51:57.451072Z",
     "iopub.status.busy": "2022-02-28T17:51:57.450347Z",
     "iopub.status.idle": "2022-02-28T17:51:57.455414Z",
     "shell.execute_reply": "2022-02-28T17:51:57.454864Z",
     "shell.execute_reply.started": "2022-02-28T17:46:41.045344Z"
    },
    "papermill": {
     "duration": 0.039977,
     "end_time": "2022-02-28T17:51:57.455555",
     "exception": false,
     "start_time": "2022-02-28T17:51:57.415578",
     "status": "completed"
    },
    "tags": []
   },
   "outputs": [],
   "source": [
    "algorithm = ['svd', 'eig', 'qr', 'svd-qr', 'svd-jacobi']\n",
    "\n",
    "results=pd.DataFrame(columns=[\"MAE\",\"R2\",\"MSE\"],index=algorithm)"
   ]
  },
  {
   "cell_type": "markdown",
   "id": "f7bf7112",
   "metadata": {
    "papermill": {
     "duration": 0.030157,
     "end_time": "2022-02-28T17:51:57.515665",
     "exception": false,
     "start_time": "2022-02-28T17:51:57.485508",
     "status": "completed"
    },
    "tags": []
   },
   "source": [
    "# Step 7: Applying various Linear Regression techniques to find the best fit"
   ]
  },
  {
   "cell_type": "code",
   "execution_count": 14,
   "id": "447bfeec",
   "metadata": {
    "execution": {
     "iopub.execute_input": "2022-02-28T17:51:57.585164Z",
     "iopub.status.busy": "2022-02-28T17:51:57.583149Z",
     "iopub.status.idle": "2022-02-28T17:52:01.954566Z",
     "shell.execute_reply": "2022-02-28T17:52:01.954052Z",
     "shell.execute_reply.started": "2022-02-28T17:46:42.049336Z"
    },
    "papermill": {
     "duration": 4.409023,
     "end_time": "2022-02-28T17:52:01.954709",
     "exception": false,
     "start_time": "2022-02-28T17:51:57.545686",
     "status": "completed"
    },
    "tags": []
   },
   "outputs": [],
   "source": [
    "\n",
    "from cuml import LinearRegression\n",
    "import cuml\n",
    "algorithm = ['svd', 'eig', 'qr', 'svd-qr', 'svd-jacobi']\n",
    "for i in algorithm:\n",
    "    lr = LinearRegression(fit_intercept = True, normalize = False, algorithm = i)\n",
    "    reg = lr.fit(X_1,y_1)\n",
    "    preds = lr.predict(X_2)\n",
    "    results.loc[i,\"MSE\"]=np.array(cuml.metrics.regression.mean_squared_error(y_2,preds)).reshape(1,1)\n",
    "    \n",
    "    results.loc[i,\"R2\"]=np.array(cuml.metrics.regression.r2_score(y_2,preds)).reshape(1,1)\n",
    "    \n",
    "    results.loc[i,\"MAE\"]=np.array(cuml.metrics.regression.mean_absolute_error(y_2,preds)).reshape(1,1)"
   ]
  },
  {
   "cell_type": "code",
   "execution_count": 15,
   "id": "4b8c6380",
   "metadata": {
    "execution": {
     "iopub.execute_input": "2022-02-28T17:52:02.023714Z",
     "iopub.status.busy": "2022-02-28T17:52:02.022822Z",
     "iopub.status.idle": "2022-02-28T17:52:02.032727Z",
     "shell.execute_reply": "2022-02-28T17:52:02.033149Z",
     "shell.execute_reply.started": "2022-02-28T17:46:42.358908Z"
    },
    "papermill": {
     "duration": 0.047862,
     "end_time": "2022-02-28T17:52:02.033327",
     "exception": false,
     "start_time": "2022-02-28T17:52:01.985465",
     "status": "completed"
    },
    "tags": []
   },
   "outputs": [],
   "source": [
    "conv=testdat.columns[testdat.dtypes==\"int64\"]\n",
    "testdat[conv]=testdat[conv].astype(\"float64\")"
   ]
  },
  {
   "cell_type": "markdown",
   "id": "061298a6",
   "metadata": {
    "papermill": {
     "duration": 0.029448,
     "end_time": "2022-02-28T17:52:02.092786",
     "exception": false,
     "start_time": "2022-02-28T17:52:02.063338",
     "status": "completed"
    },
    "tags": []
   },
   "source": [
    "# The results of comparison of different techniques are:"
   ]
  },
  {
   "cell_type": "code",
   "execution_count": 16,
   "id": "258791f2",
   "metadata": {
    "execution": {
     "iopub.execute_input": "2022-02-28T17:52:02.157690Z",
     "iopub.status.busy": "2022-02-28T17:52:02.156960Z",
     "iopub.status.idle": "2022-02-28T17:52:02.174147Z",
     "shell.execute_reply": "2022-02-28T17:52:02.174592Z",
     "shell.execute_reply.started": "2022-02-28T17:46:42.622185Z"
    },
    "papermill": {
     "duration": 0.052184,
     "end_time": "2022-02-28T17:52:02.174748",
     "exception": false,
     "start_time": "2022-02-28T17:52:02.122564",
     "status": "completed"
    },
    "tags": []
   },
   "outputs": [
    {
     "data": {
      "text/html": [
       "<div>\n",
       "<style scoped>\n",
       "    .dataframe tbody tr th:only-of-type {\n",
       "        vertical-align: middle;\n",
       "    }\n",
       "\n",
       "    .dataframe tbody tr th {\n",
       "        vertical-align: top;\n",
       "    }\n",
       "\n",
       "    .dataframe thead th {\n",
       "        text-align: right;\n",
       "    }\n",
       "</style>\n",
       "<table border=\"1\" class=\"dataframe\">\n",
       "  <thead>\n",
       "    <tr style=\"text-align: right;\">\n",
       "      <th></th>\n",
       "      <th>MAE</th>\n",
       "      <th>R2</th>\n",
       "      <th>MSE</th>\n",
       "    </tr>\n",
       "  </thead>\n",
       "  <tbody>\n",
       "    <tr>\n",
       "      <th>svd</th>\n",
       "      <td>20155.49754</td>\n",
       "      <td>0.833914866</td>\n",
       "      <td>981428127.7</td>\n",
       "    </tr>\n",
       "    <tr>\n",
       "      <th>eig</th>\n",
       "      <td>20155.49754</td>\n",
       "      <td>0.833914866</td>\n",
       "      <td>981428127.7</td>\n",
       "    </tr>\n",
       "    <tr>\n",
       "      <th>qr</th>\n",
       "      <td>20022.36629</td>\n",
       "      <td>0.834364967</td>\n",
       "      <td>978768395.2</td>\n",
       "    </tr>\n",
       "    <tr>\n",
       "      <th>svd-qr</th>\n",
       "      <td>6.355299884e+16</td>\n",
       "      <td>-1.325672168e+24</td>\n",
       "      <td>7.833644836e+33</td>\n",
       "    </tr>\n",
       "    <tr>\n",
       "      <th>svd-jacobi</th>\n",
       "      <td>6.355299884e+16</td>\n",
       "      <td>-1.325672168e+24</td>\n",
       "      <td>7.833644836e+33</td>\n",
       "    </tr>\n",
       "  </tbody>\n",
       "</table>\n",
       "</div>"
      ],
      "text/plain": [
       "                        MAE                R2              MSE\n",
       "svd             20155.49754       0.833914866      981428127.7\n",
       "eig             20155.49754       0.833914866      981428127.7\n",
       "qr              20022.36629       0.834364967      978768395.2\n",
       "svd-qr      6.355299884e+16  -1.325672168e+24  7.833644836e+33\n",
       "svd-jacobi  6.355299884e+16  -1.325672168e+24  7.833644836e+33"
      ]
     },
     "execution_count": 16,
     "metadata": {},
     "output_type": "execute_result"
    }
   ],
   "source": [
    "results"
   ]
  },
  {
   "cell_type": "markdown",
   "id": "54144217",
   "metadata": {
    "papermill": {
     "duration": 0.030036,
     "end_time": "2022-02-28T17:52:02.235076",
     "exception": false,
     "start_time": "2022-02-28T17:52:02.205040",
     "status": "completed"
    },
    "tags": []
   },
   "source": [
    "# Fitting best model on test data to generate output and save it"
   ]
  },
  {
   "cell_type": "code",
   "execution_count": 17,
   "id": "d883d001",
   "metadata": {
    "execution": {
     "iopub.execute_input": "2022-02-28T17:52:02.302510Z",
     "iopub.status.busy": "2022-02-28T17:52:02.301656Z",
     "iopub.status.idle": "2022-02-28T17:52:02.325102Z",
     "shell.execute_reply": "2022-02-28T17:52:02.324669Z",
     "shell.execute_reply.started": "2022-02-28T17:46:43.027772Z"
    },
    "papermill": {
     "duration": 0.059502,
     "end_time": "2022-02-28T17:52:02.325243",
     "exception": false,
     "start_time": "2022-02-28T17:52:02.265741",
     "status": "completed"
    },
    "tags": []
   },
   "outputs": [],
   "source": [
    "model=LinearRegression(fit_intercept = True, normalize = False, algorithm = \"svd\")\n",
    "model.fit(traindat_scaled,y)\n",
    "res=model.predict(testdat_scaled)"
   ]
  },
  {
   "cell_type": "code",
   "execution_count": 18,
   "id": "4ca614ec",
   "metadata": {
    "execution": {
     "iopub.execute_input": "2022-02-28T17:52:02.392563Z",
     "iopub.status.busy": "2022-02-28T17:52:02.391880Z",
     "iopub.status.idle": "2022-02-28T17:52:02.395549Z",
     "shell.execute_reply": "2022-02-28T17:52:02.395994Z",
     "shell.execute_reply.started": "2022-02-28T17:46:43.216015Z"
    },
    "papermill": {
     "duration": 0.039437,
     "end_time": "2022-02-28T17:52:02.396131",
     "exception": false,
     "start_time": "2022-02-28T17:52:02.356694",
     "status": "completed"
    },
    "tags": []
   },
   "outputs": [],
   "source": [
    "res1=pd.DataFrame(columns=[\"Id\",\"SalePrice\"])"
   ]
  },
  {
   "cell_type": "code",
   "execution_count": 19,
   "id": "e88d2a1a",
   "metadata": {
    "execution": {
     "iopub.execute_input": "2022-02-28T17:52:02.461804Z",
     "iopub.status.busy": "2022-02-28T17:52:02.461072Z",
     "iopub.status.idle": "2022-02-28T17:52:02.463828Z",
     "shell.execute_reply": "2022-02-28T17:52:02.464295Z",
     "shell.execute_reply.started": "2022-02-28T17:46:43.460521Z"
    },
    "papermill": {
     "duration": 0.037952,
     "end_time": "2022-02-28T17:52:02.464436",
     "exception": false,
     "start_time": "2022-02-28T17:52:02.426484",
     "status": "completed"
    },
    "tags": []
   },
   "outputs": [],
   "source": [
    "res1[\"Id\"]=testdat[\"Id\"]\n",
    "res1[\"SalePrice\"]=res"
   ]
  },
  {
   "cell_type": "code",
   "execution_count": 20,
   "id": "5648599a",
   "metadata": {
    "execution": {
     "iopub.execute_input": "2022-02-28T17:52:02.528951Z",
     "iopub.status.busy": "2022-02-28T17:52:02.528149Z",
     "iopub.status.idle": "2022-02-28T17:52:02.532976Z",
     "shell.execute_reply": "2022-02-28T17:52:02.532542Z",
     "shell.execute_reply.started": "2022-02-28T17:46:43.916082Z"
    },
    "papermill": {
     "duration": 0.038317,
     "end_time": "2022-02-28T17:52:02.533085",
     "exception": false,
     "start_time": "2022-02-28T17:52:02.494768",
     "status": "completed"
    },
    "tags": []
   },
   "outputs": [],
   "source": [
    "res1[\"Id\"]=res1[\"Id\"].astype(\"int64\")"
   ]
  },
  {
   "cell_type": "code",
   "execution_count": 21,
   "id": "2dee91f8",
   "metadata": {
    "execution": {
     "iopub.execute_input": "2022-02-28T17:52:02.597805Z",
     "iopub.status.busy": "2022-02-28T17:52:02.597071Z",
     "iopub.status.idle": "2022-02-28T17:52:02.603384Z",
     "shell.execute_reply": "2022-02-28T17:52:02.602918Z",
     "shell.execute_reply.started": "2022-02-28T17:46:44.181287Z"
    },
    "papermill": {
     "duration": 0.040377,
     "end_time": "2022-02-28T17:52:02.603499",
     "exception": false,
     "start_time": "2022-02-28T17:52:02.563122",
     "status": "completed"
    },
    "tags": []
   },
   "outputs": [],
   "source": [
    "res1.to_csv(\"101917042.csv\",index=None)"
   ]
  }
 ],
 "metadata": {
  "kernelspec": {
   "display_name": "Python 3 (ipykernel)",
   "language": "python",
   "name": "python3"
  },
  "language_info": {
   "codemirror_mode": {
    "name": "ipython",
    "version": 3
   },
   "file_extension": ".py",
   "mimetype": "text/x-python",
   "name": "python",
   "nbconvert_exporter": "python",
   "pygments_lexer": "ipython3",
   "version": "3.9.7"
  },
  "papermill": {
   "default_parameters": {},
   "duration": 38.375561,
   "end_time": "2022-02-28T17:52:04.327514",
   "environment_variables": {},
   "exception": null,
   "input_path": "__notebook__.ipynb",
   "output_path": "__notebook__.ipynb",
   "parameters": {},
   "start_time": "2022-02-28T17:51:25.951953",
   "version": "2.3.3"
  }
 },
 "nbformat": 4,
 "nbformat_minor": 5
}
